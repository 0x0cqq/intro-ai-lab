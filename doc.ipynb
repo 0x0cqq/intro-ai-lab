{
 "cells": [
  {
   "cell_type": "markdown",
   "metadata": {},
   "source": [
    "# 人工智能-第一次实验报告\n",
    "\n",
    "软件03班 陈启乾 2020012385"
   ]
  },
  {
   "cell_type": "markdown",
   "metadata": {},
   "source": [
    "## 实验一：让吃豆人吃到一个食物"
   ]
  },
  {
   "cell_type": "code",
   "execution_count": null,
   "metadata": {},
   "outputs": [],
   "source": [
    "# 小迷宫 + dfs\n",
    "%run pacman.py -l tinyMaze -p SearchAgent -a fn=depthFirstSearch"
   ]
  },
  {
   "cell_type": "code",
   "execution_count": null,
   "metadata": {},
   "outputs": [],
   "source": [
    "# 中等迷宫 + BFS\n",
    "%run pacman.py -l mediumMaze -p SearchAgent -a fn=breadthFirstSearch"
   ]
  },
  {
   "cell_type": "code",
   "execution_count": null,
   "metadata": {},
   "outputs": [],
   "source": [
    "# 中等迷宫 + UCS\n",
    "%run pacman.py -l mediumMaze -p SearchAgent -a fn=uniformCostSearch"
   ]
  },
  {
   "cell_type": "code",
   "execution_count": null,
   "metadata": {},
   "outputs": [],
   "source": [
    "# 大迷宫 + A*\n",
    "%run pacman.py -l bigMaze -z .5 -p SearchAgent -a fn=aStarSearch,heuristic=manhattanHeuristic"
   ]
  },
  {
   "cell_type": "markdown",
   "metadata": {},
   "source": [
    "## 实验二：迷宫中存在多个食物，甚至怪物，找到一条尽可能获得高分的路径。"
   ]
  },
  {
   "cell_type": "code",
   "execution_count": null,
   "metadata": {},
   "outputs": [],
   "source": [
    "# 有怪物的，只有一个食物\n",
    "%run pacman.py -l mediumScaryMaze -p MySearchAgent -a fn=aStarSearch,heuristic=manhattanHeuristic,prob=MediumScarySearchProblem"
   ]
  },
  {
   "cell_type": "code",
   "execution_count": null,
   "metadata": {},
   "outputs": [],
   "source": [
    "# 有很多食物的，没有怪物\n",
    "%run pacman.py -l foodSearchMaze -p MySearchAgent"
   ]
  },
  {
   "cell_type": "markdown",
   "metadata": {},
   "source": [
    "## 实验三：地图中存在一些聪明的怪物的情况，吃豆人的目标是获取尽量高分"
   ]
  },
  {
   "cell_type": "code",
   "execution_count": null,
   "metadata": {},
   "outputs": [],
   "source": [
    "# mini-max 搜索\n",
    "%run pacman.py -p MinimaxAgent -l mediumClassic.lay -a depth=8,evalFn=\"myScoreEvaluationFunction\""
   ]
  },
  {
   "cell_type": "code",
   "execution_count": null,
   "metadata": {},
   "outputs": [],
   "source": [
    "# alpha-beta 剪枝\n",
    "%run pacman.py -p AlphaBetaAgent -l mediumClassic.lay -a depth=10,evalFn=\"myScoreEvaluationFunction\""
   ]
  }
 ],
 "metadata": {
  "interpreter": {
   "hash": "ad489cb1ac343cbe65c2b10ed68bb0e12befdcf84f20eb4125f9c0614a67eb64"
  },
  "kernelspec": {
   "display_name": "Python 3.8.8 ('base')",
   "language": "python",
   "name": "python3"
  },
  "language_info": {
   "codemirror_mode": {
    "name": "ipython",
    "version": 3
   },
   "file_extension": ".py",
   "mimetype": "text/x-python",
   "name": "python",
   "nbconvert_exporter": "python",
   "pygments_lexer": "ipython3",
   "version": "3.8.8"
  },
  "orig_nbformat": 4
 },
 "nbformat": 4,
 "nbformat_minor": 2
}
